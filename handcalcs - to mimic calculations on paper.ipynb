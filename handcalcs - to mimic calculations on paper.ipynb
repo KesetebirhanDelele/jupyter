{
 "cells": [
  {
   "cell_type": "markdown",
   "id": "d2bfcba1",
   "metadata": {},
   "source": [
    "# handcalcs\n",
    "handcalcs is a library to render Python calculation code automatically in Latex, but in a manner that mimics how one might format their calculation if it were written with a pencil: write the symbolic formula, followed by numeric substitutions, and then the result."
   ]
  },
  {
   "cell_type": "code",
   "execution_count": 1,
   "id": "9399d98d",
   "metadata": {},
   "outputs": [],
   "source": [
    "import handcalcs.render #  pip install handcalcs\n",
    "\n",
    "from math import sqrt"
   ]
  },
  {
   "cell_type": "markdown",
   "id": "57362f60",
   "metadata": {},
   "source": [
    "## Solving Quadratic Equation\n",
    "### Given"
   ]
  },
  {
   "cell_type": "code",
   "execution_count": 2,
   "id": "a9f31de8",
   "metadata": {},
   "outputs": [
    {
     "data": {
      "text/latex": [
       "\\[\n",
       "\\begin{aligned}\n",
       "a &= 3 \\; \n",
       "\\\\[10pt]\n",
       "b &= -10 \\; \n",
       "\\\\[10pt]\n",
       "c &= 2 \\; \n",
       "\\end{aligned}\n",
       "\\]"
      ],
      "text/plain": [
       "<IPython.core.display.Latex object>"
      ]
     },
     "metadata": {},
     "output_type": "display_data"
    }
   ],
   "source": [
    "%%render\n",
    "a=3\n",
    "b=-10\n",
    "c=2"
   ]
  },
  {
   "cell_type": "markdown",
   "id": "2c456a96",
   "metadata": {},
   "source": [
    "### Formula and Solution"
   ]
  },
  {
   "cell_type": "code",
   "execution_count": 3,
   "id": "cdc8ab1b",
   "metadata": {},
   "outputs": [
    {
     "data": {
      "text/latex": [
       "\\[\n",
       "\\begin{aligned}\n",
       "x &= \\left( - b \\right) + \\frac{ \\sqrt { \\left( b \\right) ^{ 2 } - 4 \\cdot a \\cdot c } }{ 2 \\cdot a }  = \\left( - -10 \\right) + \\frac{ \\sqrt { \\left( -10 \\right) ^{ 2 } - 4 \\cdot 3 \\cdot 2 } }{ 2 \\cdot 3 } &= 11.453  \n",
       "\\end{aligned}\n",
       "\\]"
      ],
      "text/plain": [
       "<IPython.core.display.Latex object>"
      ]
     },
     "metadata": {},
     "output_type": "display_data"
    }
   ],
   "source": [
    "%%render\n",
    "x=-b + sqrt(b**2-4*a*c) / (2*a)"
   ]
  },
  {
   "cell_type": "markdown",
   "id": "6b2d3730",
   "metadata": {},
   "source": [
    "## Calculating Resistance"
   ]
  },
  {
   "cell_type": "code",
   "execution_count": 10,
   "id": "fc1dc081",
   "metadata": {},
   "outputs": [],
   "source": [
    "import forallpeople as si\n",
    "\n",
    "si.environment('default') #, top_level=True)\n",
    "# Describes the SI derived units\n",
    "# Units are created by compounding the base units (e.g. Newton, Pascal, Celsius, Watt, Joule, etc.)"
   ]
  },
  {
   "cell_type": "code",
   "execution_count": 11,
   "id": "99956358",
   "metadata": {},
   "outputs": [
    {
     "data": {
      "text/latex": [
       "\\[\n",
       "\\begin{aligned}\n",
       "I &= 3.000\\ \\mathrm{mA} \\; \\;\\textrm{(set the current)}\n",
       "\\\\[10pt]\n",
       "V &= 20.000\\ \\mathrm{V} \\; \\;\\textrm{(set the voltage)}\n",
       "\\\\[10pt]\n",
       "R &= \\frac{ V }{ I }  = \\frac{ 20.000\\ \\mathrm{V} }{ 3.000\\ \\mathrm{mA} } &= 6.667\\ \\mathrm{k\\Omega}  \n",
       "\\end{aligned}\n",
       "\\]"
      ],
      "text/plain": [
       "<IPython.core.display.Latex object>"
      ]
     },
     "metadata": {},
     "output_type": "display_data"
    }
   ],
   "source": [
    "%%render\n",
    "\n",
    "# We need to bracket the terms to not expand the units equation\n",
    "I = (3e-3 * si.A) #  set the current\n",
    "V = (20 * si.V) # set the voltage\n",
    "\n",
    "R = V/I\n",
    "# Incorrect omega, issue: https://github.com/connorferster/handcalcs/issues/76"
   ]
  },
  {
   "cell_type": "markdown",
   "id": "8f384c20",
   "metadata": {},
   "source": [
    "## Boyel's Equation"
   ]
  },
  {
   "cell_type": "code",
   "execution_count": 5,
   "id": "f752d43a",
   "metadata": {
    "scrolled": true
   },
   "outputs": [],
   "source": [
    "import forallpeople  # pip install forallpeople\n",
    "forallpeople.environment('structural', top_level=True)"
   ]
  },
  {
   "cell_type": "code",
   "execution_count": 6,
   "id": "bfad5ba0",
   "metadata": {},
   "outputs": [
    {
     "data": {
      "text/latex": [
       "\\[\n",
       "\\begin{aligned}\n",
       "Z_{x} &= 300000.000\\ \\mathrm{mm}^{3} \\; \n",
       " &f_{y} &= 400.000\\ \\mathrm{MPa} \\; \n",
       " &\\phi &= 0.900 \\; \n",
       "\\\\[10pt]\n",
       "\\end{aligned}\n",
       "\\]"
      ],
      "text/plain": [
       "<IPython.core.display.Latex object>"
      ]
     },
     "metadata": {},
     "output_type": "display_data"
    }
   ],
   "source": [
    "%%render params\n",
    "Z_x = 300e3*mm**3\n",
    "f_y = 400*MPa\n",
    "phi = 0.9"
   ]
  },
  {
   "cell_type": "code",
   "execution_count": 8,
   "id": "fabd2580",
   "metadata": {},
   "outputs": [
    {
     "data": {
      "text/latex": [
       "\\[\n",
       "\\begin{aligned}\n",
       "M_{r} &= Z_{x} \\cdot f_{y} \\cdot \\phi  = 300000.000\\ \\mathrm{mm}^{3} \\cdot 400.000\\ \\mathrm{MPa} \\cdot 0.900 &= 108.000\\ \\mathrm{kN} \\cdot \\mathrm{m}  \n",
       "\\end{aligned}\n",
       "\\]"
      ],
      "text/plain": [
       "<IPython.core.display.Latex object>"
      ]
     },
     "metadata": {},
     "output_type": "display_data"
    }
   ],
   "source": [
    "%%render\n",
    "M_r = Z_x * f_y * phi"
   ]
  }
 ],
 "metadata": {
  "kernelspec": {
   "display_name": "Python 3 (ipykernel)",
   "language": "python",
   "name": "python3"
  },
  "language_info": {
   "codemirror_mode": {
    "name": "ipython",
    "version": 3
   },
   "file_extension": ".py",
   "mimetype": "text/x-python",
   "name": "python",
   "nbconvert_exporter": "python",
   "pygments_lexer": "ipython3",
   "version": "3.10.9"
  },
  "toc": {
   "base_numbering": 1,
   "nav_menu": {},
   "number_sections": true,
   "sideBar": true,
   "skip_h1_title": false,
   "title_cell": "Table of Contents",
   "title_sidebar": "Contents",
   "toc_cell": false,
   "toc_position": {
    "height": "calc(100% - 180px)",
    "left": "10px",
    "top": "150px",
    "width": "231.411px"
   },
   "toc_section_display": true,
   "toc_window_display": true
  },
  "varInspector": {
   "cols": {
    "lenName": 16,
    "lenType": 16,
    "lenVar": 40
   },
   "kernels_config": {
    "python": {
     "delete_cmd_postfix": "",
     "delete_cmd_prefix": "del ",
     "library": "var_list.py",
     "varRefreshCmd": "print(var_dic_list())"
    },
    "r": {
     "delete_cmd_postfix": ") ",
     "delete_cmd_prefix": "rm(",
     "library": "var_list.r",
     "varRefreshCmd": "cat(var_dic_list()) "
    }
   },
   "types_to_exclude": [
    "module",
    "function",
    "builtin_function_or_method",
    "instance",
    "_Feature"
   ],
   "window_display": false
  },
  "vp": {
   "vp_config_version": "1.0.0",
   "vp_menu_width": 273,
   "vp_note_display": false,
   "vp_note_width": 0,
   "vp_position": {
    "width": 278
   },
   "vp_section_display": false,
   "vp_signature": "VisualPython"
  }
 },
 "nbformat": 4,
 "nbformat_minor": 5
}
